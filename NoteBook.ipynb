{
 "cells": [
  {
   "cell_type": "markdown",
   "metadata": {},
   "source": [
    "## **Important Imports**"
   ]
  },
  {
   "cell_type": "code",
   "execution_count": 88,
   "metadata": {},
   "outputs": [],
   "source": [
    "# Basic Imports\n",
    "import pandas as pd\n",
    "import numpy as np\n",
    "import matplotlib.pyplot as plt\n",
    "import seaborn as sns\n",
    "\n",
    "# Sklearn Imports\n",
    "from sklearn.preprocessing import RobustScaler\n",
    "from sklearn.model_selection import train_test_split, cross_val_score\n",
    "from sklearn.metrics import confusion_matrix, classification_report , accuracy_score\n",
    "\n",
    "import joblib"
   ]
  },
  {
   "cell_type": "markdown",
   "metadata": {},
   "source": [
    "### **Dataset Import and Familiarization**"
   ]
  },
  {
   "cell_type": "code",
   "execution_count": 89,
   "metadata": {},
   "outputs": [
    {
     "name": "stderr",
     "output_type": "stream",
     "text": [
      "C:\\Users\\Acer\\AppData\\Local\\Temp\\ipykernel_49156\\1880558860.py:1: DtypeWarning: Columns (3,4,5) have mixed types. Specify dtype option on import or set low_memory=False.\n",
      "  TrainDataSet = pd.read_csv('./datasets/train_kaggle.csv')\n"
     ]
    },
    {
     "name": "stdout",
     "output_type": "stream",
     "text": [
      "<class 'pandas.core.frame.DataFrame'>\n",
      "RangeIndex: 774155 entries, 0 to 774154\n",
      "Data columns (total 6 columns):\n",
      " #   Column            Non-Null Count   Dtype  \n",
      "---  ------            --------------   -----  \n",
      " 0   Customer_ID       774153 non-null  float64\n",
      " 1   outlet_city       774153 non-null  object \n",
      " 2   luxury_sales      774120 non-null  object \n",
      " 3   fresh_sales       774114 non-null  object \n",
      " 4   dry_sales         774125 non-null  object \n",
      " 5   cluster_catgeory  774154 non-null  object \n",
      "dtypes: float64(1), object(5)\n",
      "memory usage: 35.4+ MB\n"
     ]
    }
   ],
   "source": [
    "TrainDataSet = pd.read_csv('./datasets/train_kaggle.csv')\n",
    "\n",
    "TrainDataSet.info()"
   ]
  },
  {
   "cell_type": "code",
   "execution_count": 90,
   "metadata": {},
   "outputs": [
    {
     "data": {
      "text/plain": [
       "<bound method NDFrame.describe of         Customer_ID outlet_city luxury_sales fresh_sales dry_sales  \\\n",
       "0        10493832.0    Kelaniya       1209.6       756.0    5292.0   \n",
       "1        10178643.0    Moratuwa      1590.12     1060.08   6007.12   \n",
       "2        10513916.0     Wattala      2288.88     1481.04   9155.52   \n",
       "3        10334589.0     Wattala      2274.94     1739.66   9099.76   \n",
       "4        10458365.0    Kelaniya      2345.49     2069.55   9243.99   \n",
       "...             ...         ...          ...         ...       ...   \n",
       "774150   10197979.0     Gampaha       3893.4      3893.4   3448.44   \n",
       "774151   10494575.0  Katunayake      6095.86     5557.99   6275.15   \n",
       "774152   10565682.0     Colombo      5121.42     4820.16   4669.53   \n",
       "774153   10351977.0       Kandy      6311.76     6311.76   5940.48   \n",
       "774154   10637635.0     Negombo       5833.5     6027.95    6611.3   \n",
       "\n",
       "       cluster_catgeory  \n",
       "0                     4  \n",
       "1                     1  \n",
       "2                     4  \n",
       "3                     4  \n",
       "4                     4  \n",
       "...                 ...  \n",
       "774150                3  \n",
       "774151                3  \n",
       "774152                3  \n",
       "774153                3  \n",
       "774154                3  \n",
       "\n",
       "[774155 rows x 6 columns]>"
      ]
     },
     "execution_count": 90,
     "metadata": {},
     "output_type": "execute_result"
    }
   ],
   "source": [
    "TrainDataSet.describe"
   ]
  },
  {
   "cell_type": "markdown",
   "metadata": {},
   "source": [
    "### **Preprocessing**   "
   ]
  },
  {
   "cell_type": "code",
   "execution_count": 91,
   "metadata": {},
   "outputs": [
    {
     "name": "stdout",
     "output_type": "stream",
     "text": [
      "Before Cleaning the Sales Column Customer_ID          2\n",
      "outlet_city          2\n",
      "luxury_sales        35\n",
      "fresh_sales         41\n",
      "dry_sales           30\n",
      "cluster_catgeory     1\n",
      "dtype: int64\n",
      "\n",
      "After Cleaning the Sales Column Customer_ID         2\n",
      "outlet_city         2\n",
      "luxury_sales        0\n",
      "fresh_sales         0\n",
      "dry_sales           0\n",
      "cluster_catgeory    1\n",
      "dtype: int64\n",
      "\n",
      "\n",
      "Can clearly see after cleaning the Sales Column, there are no missing values in those numerical columns\n"
     ]
    }
   ],
   "source": [
    "print(f'Before Cleaning the Sales Column {TrainDataSet.isnull().sum()}')\n",
    "\n",
    "# Check for missing values\n",
    "TrainDataSet[['luxury_sales', 'fresh_sales', 'dry_sales']] = TrainDataSet[['luxury_sales', 'fresh_sales', 'dry_sales']].fillna(0)\n",
    "\n",
    "print(f'\\nAfter Cleaning the Sales Column {TrainDataSet.isnull().sum()}')\n",
    "print(\"\\n\\nCan clearly see after cleaning the Sales Column, there are no missing values in those numerical columns\")"
   ]
  },
  {
   "cell_type": "code",
   "execution_count": 92,
   "metadata": {},
   "outputs": [
    {
     "name": "stdout",
     "output_type": "stream",
     "text": [
      "For categorical columns, we will just drop the rows with missing values because they are very few and imputing them will change the data distribution\n"
     ]
    }
   ],
   "source": [
    "TrainDataSet.dropna(inplace=True)\n",
    "\n",
    "TrainDataSet.isnull().sum()\n",
    "\n",
    "print(\"For categorical columns, we will just drop the rows with missing values because they are very few and imputing them will change the data distribution\")"
   ]
  },
  {
   "cell_type": "code",
   "execution_count": 93,
   "metadata": {},
   "outputs": [
    {
     "name": "stdout",
     "output_type": "stream",
     "text": [
      "<class 'pandas.core.frame.DataFrame'>\n",
      "Int64Index: 774150 entries, 0 to 774154\n",
      "Data columns (total 6 columns):\n",
      " #   Column            Non-Null Count   Dtype  \n",
      "---  ------            --------------   -----  \n",
      " 0   Customer_ID       774150 non-null  float64\n",
      " 1   outlet_city       774150 non-null  object \n",
      " 2   luxury_sales      774140 non-null  float64\n",
      " 3   fresh_sales       774141 non-null  float64\n",
      " 4   dry_sales         774142 non-null  float64\n",
      " 5   cluster_catgeory  774150 non-null  object \n",
      "dtypes: float64(4), object(2)\n",
      "memory usage: 41.3+ MB\n"
     ]
    }
   ],
   "source": [
    "# Data type correction\n",
    "# Assuming TrainDataSet is your DataFrame and 'sales' is the column name\n",
    "# Convert non-numeric values to NaN for multiple columns\n",
    "TrainDataSet[['luxury_sales', 'fresh_sales', 'dry_sales']] = TrainDataSet[['luxury_sales', 'fresh_sales', 'dry_sales']].apply(pd.to_numeric, errors='coerce')\n",
    "\n",
    "# Convert the columns to float\n",
    "TrainDataSet[['luxury_sales', 'fresh_sales', 'dry_sales']] = TrainDataSet[['luxury_sales', 'fresh_sales', 'dry_sales']].astype(float)\n",
    "\n",
    "TrainDataSet.info()"
   ]
  },
  {
   "cell_type": "markdown",
   "metadata": {},
   "source": [
    "### **Data type conversion**"
   ]
  },
  {
   "cell_type": "code",
   "execution_count": 94,
   "metadata": {},
   "outputs": [
    {
     "name": "stdout",
     "output_type": "stream",
     "text": [
      "<class 'pandas.core.frame.DataFrame'>\n",
      "Int64Index: 774150 entries, 0 to 774154\n",
      "Data columns (total 6 columns):\n",
      " #   Column            Non-Null Count   Dtype  \n",
      "---  ------            --------------   -----  \n",
      " 0   Customer_ID       774150 non-null  float64\n",
      " 1   outlet_city       774150 non-null  object \n",
      " 2   luxury_sales      774150 non-null  float64\n",
      " 3   fresh_sales       774150 non-null  float64\n",
      " 4   dry_sales         774150 non-null  float64\n",
      " 5   cluster_catgeory  774150 non-null  object \n",
      "dtypes: float64(4), object(2)\n",
      "memory usage: 41.3+ MB\n"
     ]
    }
   ],
   "source": [
    "# Replace NaN values with 0\n",
    "TrainDataSet.replace({'luxury_sales': {np.nan: 0}, 'fresh_sales': {np.nan: 0}, 'dry_sales': {np.nan: 0}}, inplace=True)\n",
    "\n",
    "# Convert the columns to float\n",
    "TrainDataSet[['luxury_sales', 'fresh_sales', 'dry_sales']] = TrainDataSet[['luxury_sales', 'fresh_sales', 'dry_sales']].astype(float)\n",
    "\n",
    "# Display information about the DataFrame\n",
    "TrainDataSet.info()"
   ]
  },
  {
   "cell_type": "code",
   "execution_count": 95,
   "metadata": {},
   "outputs": [
    {
     "name": "stdout",
     "output_type": "stream",
     "text": [
      "There are no duplicate rows in the dataset\n"
     ]
    }
   ],
   "source": [
    "# Duplicate Check\n",
    "TrainDataSet.duplicated().sum()\n",
    "\n",
    "if TrainDataSet.duplicated().sum() > 0:\n",
    "    print(\"There are duplicate rows in the dataset\")\n",
    "    TrainDataSet.drop_duplicates(inplace=True)\n",
    "    print(\"Duplicate rows have been removed\")\n",
    "else:\n",
    "    print(\"There are no duplicate rows in the dataset\")"
   ]
  },
  {
   "cell_type": "markdown",
   "metadata": {},
   "source": [
    "### **Encoding outlet_city column**"
   ]
  },
  {
   "cell_type": "code",
   "execution_count": 96,
   "metadata": {},
   "outputs": [
    {
     "data": {
      "text/html": [
       "<div>\n",
       "<style scoped>\n",
       "    .dataframe tbody tr th:only-of-type {\n",
       "        vertical-align: middle;\n",
       "    }\n",
       "\n",
       "    .dataframe tbody tr th {\n",
       "        vertical-align: top;\n",
       "    }\n",
       "\n",
       "    .dataframe thead th {\n",
       "        text-align: right;\n",
       "    }\n",
       "</style>\n",
       "<table border=\"1\" class=\"dataframe\">\n",
       "  <thead>\n",
       "    <tr style=\"text-align: right;\">\n",
       "      <th></th>\n",
       "      <th>Customer_ID</th>\n",
       "      <th>luxury_sales</th>\n",
       "      <th>fresh_sales</th>\n",
       "      <th>dry_sales</th>\n",
       "      <th>outlet_city_Batticaloa</th>\n",
       "      <th>outlet_city_Colombo</th>\n",
       "      <th>outlet_city_Dehiwala-Mount Lavinia</th>\n",
       "      <th>outlet_city_Galle</th>\n",
       "      <th>outlet_city_Gampaha</th>\n",
       "      <th>outlet_city_Homagama</th>\n",
       "      <th>...</th>\n",
       "      <th>outlet_city_Kelaniya</th>\n",
       "      <th>outlet_city_Kotte</th>\n",
       "      <th>outlet_city_Moratuwa</th>\n",
       "      <th>outlet_city_Negombo</th>\n",
       "      <th>outlet_city_Nuwara Eliya</th>\n",
       "      <th>outlet_city_Panadura</th>\n",
       "      <th>outlet_city_Peliyagoda</th>\n",
       "      <th>outlet_city_Trincomalee</th>\n",
       "      <th>outlet_city_Wattala</th>\n",
       "      <th>cluster_catgeory</th>\n",
       "    </tr>\n",
       "  </thead>\n",
       "  <tbody>\n",
       "    <tr>\n",
       "      <th>0</th>\n",
       "      <td>10493832.0</td>\n",
       "      <td>1209.60</td>\n",
       "      <td>756.00</td>\n",
       "      <td>5292.00</td>\n",
       "      <td>0</td>\n",
       "      <td>0</td>\n",
       "      <td>0</td>\n",
       "      <td>0</td>\n",
       "      <td>0</td>\n",
       "      <td>0</td>\n",
       "      <td>...</td>\n",
       "      <td>1</td>\n",
       "      <td>0</td>\n",
       "      <td>0</td>\n",
       "      <td>0</td>\n",
       "      <td>0</td>\n",
       "      <td>0</td>\n",
       "      <td>0</td>\n",
       "      <td>0</td>\n",
       "      <td>0</td>\n",
       "      <td>4</td>\n",
       "    </tr>\n",
       "    <tr>\n",
       "      <th>1</th>\n",
       "      <td>10178643.0</td>\n",
       "      <td>1590.12</td>\n",
       "      <td>1060.08</td>\n",
       "      <td>6007.12</td>\n",
       "      <td>0</td>\n",
       "      <td>0</td>\n",
       "      <td>0</td>\n",
       "      <td>0</td>\n",
       "      <td>0</td>\n",
       "      <td>0</td>\n",
       "      <td>...</td>\n",
       "      <td>0</td>\n",
       "      <td>0</td>\n",
       "      <td>1</td>\n",
       "      <td>0</td>\n",
       "      <td>0</td>\n",
       "      <td>0</td>\n",
       "      <td>0</td>\n",
       "      <td>0</td>\n",
       "      <td>0</td>\n",
       "      <td>1</td>\n",
       "    </tr>\n",
       "    <tr>\n",
       "      <th>2</th>\n",
       "      <td>10513916.0</td>\n",
       "      <td>2288.88</td>\n",
       "      <td>1481.04</td>\n",
       "      <td>9155.52</td>\n",
       "      <td>0</td>\n",
       "      <td>0</td>\n",
       "      <td>0</td>\n",
       "      <td>0</td>\n",
       "      <td>0</td>\n",
       "      <td>0</td>\n",
       "      <td>...</td>\n",
       "      <td>0</td>\n",
       "      <td>0</td>\n",
       "      <td>0</td>\n",
       "      <td>0</td>\n",
       "      <td>0</td>\n",
       "      <td>0</td>\n",
       "      <td>0</td>\n",
       "      <td>0</td>\n",
       "      <td>1</td>\n",
       "      <td>4</td>\n",
       "    </tr>\n",
       "    <tr>\n",
       "      <th>3</th>\n",
       "      <td>10334589.0</td>\n",
       "      <td>2274.94</td>\n",
       "      <td>1739.66</td>\n",
       "      <td>9099.76</td>\n",
       "      <td>0</td>\n",
       "      <td>0</td>\n",
       "      <td>0</td>\n",
       "      <td>0</td>\n",
       "      <td>0</td>\n",
       "      <td>0</td>\n",
       "      <td>...</td>\n",
       "      <td>0</td>\n",
       "      <td>0</td>\n",
       "      <td>0</td>\n",
       "      <td>0</td>\n",
       "      <td>0</td>\n",
       "      <td>0</td>\n",
       "      <td>0</td>\n",
       "      <td>0</td>\n",
       "      <td>1</td>\n",
       "      <td>4</td>\n",
       "    </tr>\n",
       "    <tr>\n",
       "      <th>4</th>\n",
       "      <td>10458365.0</td>\n",
       "      <td>2345.49</td>\n",
       "      <td>2069.55</td>\n",
       "      <td>9243.99</td>\n",
       "      <td>0</td>\n",
       "      <td>0</td>\n",
       "      <td>0</td>\n",
       "      <td>0</td>\n",
       "      <td>0</td>\n",
       "      <td>0</td>\n",
       "      <td>...</td>\n",
       "      <td>1</td>\n",
       "      <td>0</td>\n",
       "      <td>0</td>\n",
       "      <td>0</td>\n",
       "      <td>0</td>\n",
       "      <td>0</td>\n",
       "      <td>0</td>\n",
       "      <td>0</td>\n",
       "      <td>0</td>\n",
       "      <td>4</td>\n",
       "    </tr>\n",
       "    <tr>\n",
       "      <th>5</th>\n",
       "      <td>10654823.0</td>\n",
       "      <td>1661.00</td>\n",
       "      <td>913.55</td>\n",
       "      <td>5564.35</td>\n",
       "      <td>0</td>\n",
       "      <td>0</td>\n",
       "      <td>0</td>\n",
       "      <td>0</td>\n",
       "      <td>0</td>\n",
       "      <td>1</td>\n",
       "      <td>...</td>\n",
       "      <td>0</td>\n",
       "      <td>0</td>\n",
       "      <td>0</td>\n",
       "      <td>0</td>\n",
       "      <td>0</td>\n",
       "      <td>0</td>\n",
       "      <td>0</td>\n",
       "      <td>0</td>\n",
       "      <td>0</td>\n",
       "      <td>4</td>\n",
       "    </tr>\n",
       "    <tr>\n",
       "      <th>6</th>\n",
       "      <td>10603456.0</td>\n",
       "      <td>1544.96</td>\n",
       "      <td>908.80</td>\n",
       "      <td>6270.72</td>\n",
       "      <td>0</td>\n",
       "      <td>0</td>\n",
       "      <td>1</td>\n",
       "      <td>0</td>\n",
       "      <td>0</td>\n",
       "      <td>0</td>\n",
       "      <td>...</td>\n",
       "      <td>0</td>\n",
       "      <td>0</td>\n",
       "      <td>0</td>\n",
       "      <td>0</td>\n",
       "      <td>0</td>\n",
       "      <td>0</td>\n",
       "      <td>0</td>\n",
       "      <td>0</td>\n",
       "      <td>0</td>\n",
       "      <td>4</td>\n",
       "    </tr>\n",
       "    <tr>\n",
       "      <th>7</th>\n",
       "      <td>10382219.0</td>\n",
       "      <td>2120.96</td>\n",
       "      <td>1325.60</td>\n",
       "      <td>9279.20</td>\n",
       "      <td>0</td>\n",
       "      <td>0</td>\n",
       "      <td>0</td>\n",
       "      <td>0</td>\n",
       "      <td>0</td>\n",
       "      <td>0</td>\n",
       "      <td>...</td>\n",
       "      <td>1</td>\n",
       "      <td>0</td>\n",
       "      <td>0</td>\n",
       "      <td>0</td>\n",
       "      <td>0</td>\n",
       "      <td>0</td>\n",
       "      <td>0</td>\n",
       "      <td>0</td>\n",
       "      <td>0</td>\n",
       "      <td>4</td>\n",
       "    </tr>\n",
       "    <tr>\n",
       "      <th>8</th>\n",
       "      <td>10473125.0</td>\n",
       "      <td>1092.80</td>\n",
       "      <td>1024.50</td>\n",
       "      <td>4644.40</td>\n",
       "      <td>0</td>\n",
       "      <td>0</td>\n",
       "      <td>1</td>\n",
       "      <td>0</td>\n",
       "      <td>0</td>\n",
       "      <td>0</td>\n",
       "      <td>...</td>\n",
       "      <td>0</td>\n",
       "      <td>0</td>\n",
       "      <td>0</td>\n",
       "      <td>0</td>\n",
       "      <td>0</td>\n",
       "      <td>0</td>\n",
       "      <td>0</td>\n",
       "      <td>0</td>\n",
       "      <td>0</td>\n",
       "      <td>4</td>\n",
       "    </tr>\n",
       "    <tr>\n",
       "      <th>9</th>\n",
       "      <td>10751172.0</td>\n",
       "      <td>2390.20</td>\n",
       "      <td>1673.14</td>\n",
       "      <td>7887.66</td>\n",
       "      <td>0</td>\n",
       "      <td>0</td>\n",
       "      <td>0</td>\n",
       "      <td>0</td>\n",
       "      <td>0</td>\n",
       "      <td>0</td>\n",
       "      <td>...</td>\n",
       "      <td>0</td>\n",
       "      <td>0</td>\n",
       "      <td>0</td>\n",
       "      <td>0</td>\n",
       "      <td>0</td>\n",
       "      <td>1</td>\n",
       "      <td>0</td>\n",
       "      <td>0</td>\n",
       "      <td>0</td>\n",
       "      <td>4</td>\n",
       "    </tr>\n",
       "    <tr>\n",
       "      <th>10</th>\n",
       "      <td>10211229.0</td>\n",
       "      <td>1814.40</td>\n",
       "      <td>1209.60</td>\n",
       "      <td>6955.20</td>\n",
       "      <td>0</td>\n",
       "      <td>0</td>\n",
       "      <td>0</td>\n",
       "      <td>0</td>\n",
       "      <td>0</td>\n",
       "      <td>0</td>\n",
       "      <td>...</td>\n",
       "      <td>0</td>\n",
       "      <td>0</td>\n",
       "      <td>0</td>\n",
       "      <td>0</td>\n",
       "      <td>0</td>\n",
       "      <td>0</td>\n",
       "      <td>0</td>\n",
       "      <td>0</td>\n",
       "      <td>1</td>\n",
       "      <td>4</td>\n",
       "    </tr>\n",
       "    <tr>\n",
       "      <th>11</th>\n",
       "      <td>10107713.0</td>\n",
       "      <td>1217.37</td>\n",
       "      <td>930.93</td>\n",
       "      <td>4797.87</td>\n",
       "      <td>0</td>\n",
       "      <td>0</td>\n",
       "      <td>0</td>\n",
       "      <td>0</td>\n",
       "      <td>0</td>\n",
       "      <td>1</td>\n",
       "      <td>...</td>\n",
       "      <td>0</td>\n",
       "      <td>0</td>\n",
       "      <td>0</td>\n",
       "      <td>0</td>\n",
       "      <td>0</td>\n",
       "      <td>0</td>\n",
       "      <td>0</td>\n",
       "      <td>0</td>\n",
       "      <td>0</td>\n",
       "      <td>4</td>\n",
       "    </tr>\n",
       "    <tr>\n",
       "      <th>12</th>\n",
       "      <td>10579316.0</td>\n",
       "      <td>2365.38</td>\n",
       "      <td>1391.40</td>\n",
       "      <td>9322.38</td>\n",
       "      <td>0</td>\n",
       "      <td>0</td>\n",
       "      <td>0</td>\n",
       "      <td>0</td>\n",
       "      <td>0</td>\n",
       "      <td>0</td>\n",
       "      <td>...</td>\n",
       "      <td>0</td>\n",
       "      <td>0</td>\n",
       "      <td>1</td>\n",
       "      <td>0</td>\n",
       "      <td>0</td>\n",
       "      <td>0</td>\n",
       "      <td>0</td>\n",
       "      <td>0</td>\n",
       "      <td>0</td>\n",
       "      <td>4</td>\n",
       "    </tr>\n",
       "    <tr>\n",
       "      <th>13</th>\n",
       "      <td>10241189.0</td>\n",
       "      <td>1466.40</td>\n",
       "      <td>1191.45</td>\n",
       "      <td>6232.20</td>\n",
       "      <td>0</td>\n",
       "      <td>0</td>\n",
       "      <td>0</td>\n",
       "      <td>0</td>\n",
       "      <td>0</td>\n",
       "      <td>0</td>\n",
       "      <td>...</td>\n",
       "      <td>0</td>\n",
       "      <td>0</td>\n",
       "      <td>0</td>\n",
       "      <td>0</td>\n",
       "      <td>0</td>\n",
       "      <td>0</td>\n",
       "      <td>0</td>\n",
       "      <td>0</td>\n",
       "      <td>0</td>\n",
       "      <td>4</td>\n",
       "    </tr>\n",
       "    <tr>\n",
       "      <th>14</th>\n",
       "      <td>10773084.0</td>\n",
       "      <td>2300.80</td>\n",
       "      <td>1869.40</td>\n",
       "      <td>9490.80</td>\n",
       "      <td>0</td>\n",
       "      <td>0</td>\n",
       "      <td>0</td>\n",
       "      <td>0</td>\n",
       "      <td>0</td>\n",
       "      <td>0</td>\n",
       "      <td>...</td>\n",
       "      <td>0</td>\n",
       "      <td>0</td>\n",
       "      <td>1</td>\n",
       "      <td>0</td>\n",
       "      <td>0</td>\n",
       "      <td>0</td>\n",
       "      <td>0</td>\n",
       "      <td>0</td>\n",
       "      <td>0</td>\n",
       "      <td>4</td>\n",
       "    </tr>\n",
       "    <tr>\n",
       "      <th>15</th>\n",
       "      <td>10575044.0</td>\n",
       "      <td>1641.76</td>\n",
       "      <td>1231.32</td>\n",
       "      <td>6874.87</td>\n",
       "      <td>0</td>\n",
       "      <td>0</td>\n",
       "      <td>0</td>\n",
       "      <td>0</td>\n",
       "      <td>0</td>\n",
       "      <td>0</td>\n",
       "      <td>...</td>\n",
       "      <td>0</td>\n",
       "      <td>0</td>\n",
       "      <td>1</td>\n",
       "      <td>0</td>\n",
       "      <td>0</td>\n",
       "      <td>0</td>\n",
       "      <td>0</td>\n",
       "      <td>0</td>\n",
       "      <td>0</td>\n",
       "      <td>4</td>\n",
       "    </tr>\n",
       "    <tr>\n",
       "      <th>16</th>\n",
       "      <td>10641469.0</td>\n",
       "      <td>1163.52</td>\n",
       "      <td>799.92</td>\n",
       "      <td>5017.68</td>\n",
       "      <td>0</td>\n",
       "      <td>0</td>\n",
       "      <td>0</td>\n",
       "      <td>0</td>\n",
       "      <td>0</td>\n",
       "      <td>0</td>\n",
       "      <td>...</td>\n",
       "      <td>0</td>\n",
       "      <td>0</td>\n",
       "      <td>0</td>\n",
       "      <td>0</td>\n",
       "      <td>0</td>\n",
       "      <td>0</td>\n",
       "      <td>1</td>\n",
       "      <td>0</td>\n",
       "      <td>0</td>\n",
       "      <td>4</td>\n",
       "    </tr>\n",
       "    <tr>\n",
       "      <th>17</th>\n",
       "      <td>10346993.0</td>\n",
       "      <td>1853.76</td>\n",
       "      <td>1390.32</td>\n",
       "      <td>7878.48</td>\n",
       "      <td>0</td>\n",
       "      <td>0</td>\n",
       "      <td>1</td>\n",
       "      <td>0</td>\n",
       "      <td>0</td>\n",
       "      <td>0</td>\n",
       "      <td>...</td>\n",
       "      <td>0</td>\n",
       "      <td>0</td>\n",
       "      <td>0</td>\n",
       "      <td>0</td>\n",
       "      <td>0</td>\n",
       "      <td>0</td>\n",
       "      <td>0</td>\n",
       "      <td>0</td>\n",
       "      <td>0</td>\n",
       "      <td>99</td>\n",
       "    </tr>\n",
       "    <tr>\n",
       "      <th>18</th>\n",
       "      <td>10481281.0</td>\n",
       "      <td>1487.00</td>\n",
       "      <td>817.85</td>\n",
       "      <td>5130.15</td>\n",
       "      <td>0</td>\n",
       "      <td>0</td>\n",
       "      <td>0</td>\n",
       "      <td>0</td>\n",
       "      <td>0</td>\n",
       "      <td>0</td>\n",
       "      <td>...</td>\n",
       "      <td>0</td>\n",
       "      <td>0</td>\n",
       "      <td>0</td>\n",
       "      <td>0</td>\n",
       "      <td>0</td>\n",
       "      <td>0</td>\n",
       "      <td>0</td>\n",
       "      <td>0</td>\n",
       "      <td>0</td>\n",
       "      <td>4</td>\n",
       "    </tr>\n",
       "    <tr>\n",
       "      <th>19</th>\n",
       "      <td>10443542.0</td>\n",
       "      <td>1594.44</td>\n",
       "      <td>1240.12</td>\n",
       "      <td>5934.86</td>\n",
       "      <td>0</td>\n",
       "      <td>0</td>\n",
       "      <td>0</td>\n",
       "      <td>0</td>\n",
       "      <td>0</td>\n",
       "      <td>0</td>\n",
       "      <td>...</td>\n",
       "      <td>1</td>\n",
       "      <td>0</td>\n",
       "      <td>0</td>\n",
       "      <td>0</td>\n",
       "      <td>0</td>\n",
       "      <td>0</td>\n",
       "      <td>0</td>\n",
       "      <td>0</td>\n",
       "      <td>0</td>\n",
       "      <td>4</td>\n",
       "    </tr>\n",
       "  </tbody>\n",
       "</table>\n",
       "<p>20 rows × 25 columns</p>\n",
       "</div>"
      ],
      "text/plain": [
       "    Customer_ID  luxury_sales  fresh_sales  dry_sales  outlet_city_Batticaloa  \\\n",
       "0    10493832.0       1209.60       756.00    5292.00                       0   \n",
       "1    10178643.0       1590.12      1060.08    6007.12                       0   \n",
       "2    10513916.0       2288.88      1481.04    9155.52                       0   \n",
       "3    10334589.0       2274.94      1739.66    9099.76                       0   \n",
       "4    10458365.0       2345.49      2069.55    9243.99                       0   \n",
       "5    10654823.0       1661.00       913.55    5564.35                       0   \n",
       "6    10603456.0       1544.96       908.80    6270.72                       0   \n",
       "7    10382219.0       2120.96      1325.60    9279.20                       0   \n",
       "8    10473125.0       1092.80      1024.50    4644.40                       0   \n",
       "9    10751172.0       2390.20      1673.14    7887.66                       0   \n",
       "10   10211229.0       1814.40      1209.60    6955.20                       0   \n",
       "11   10107713.0       1217.37       930.93    4797.87                       0   \n",
       "12   10579316.0       2365.38      1391.40    9322.38                       0   \n",
       "13   10241189.0       1466.40      1191.45    6232.20                       0   \n",
       "14   10773084.0       2300.80      1869.40    9490.80                       0   \n",
       "15   10575044.0       1641.76      1231.32    6874.87                       0   \n",
       "16   10641469.0       1163.52       799.92    5017.68                       0   \n",
       "17   10346993.0       1853.76      1390.32    7878.48                       0   \n",
       "18   10481281.0       1487.00       817.85    5130.15                       0   \n",
       "19   10443542.0       1594.44      1240.12    5934.86                       0   \n",
       "\n",
       "    outlet_city_Colombo  outlet_city_Dehiwala-Mount Lavinia  \\\n",
       "0                     0                                   0   \n",
       "1                     0                                   0   \n",
       "2                     0                                   0   \n",
       "3                     0                                   0   \n",
       "4                     0                                   0   \n",
       "5                     0                                   0   \n",
       "6                     0                                   1   \n",
       "7                     0                                   0   \n",
       "8                     0                                   1   \n",
       "9                     0                                   0   \n",
       "10                    0                                   0   \n",
       "11                    0                                   0   \n",
       "12                    0                                   0   \n",
       "13                    0                                   0   \n",
       "14                    0                                   0   \n",
       "15                    0                                   0   \n",
       "16                    0                                   0   \n",
       "17                    0                                   1   \n",
       "18                    0                                   0   \n",
       "19                    0                                   0   \n",
       "\n",
       "    outlet_city_Galle  outlet_city_Gampaha  outlet_city_Homagama  ...  \\\n",
       "0                   0                    0                     0  ...   \n",
       "1                   0                    0                     0  ...   \n",
       "2                   0                    0                     0  ...   \n",
       "3                   0                    0                     0  ...   \n",
       "4                   0                    0                     0  ...   \n",
       "5                   0                    0                     1  ...   \n",
       "6                   0                    0                     0  ...   \n",
       "7                   0                    0                     0  ...   \n",
       "8                   0                    0                     0  ...   \n",
       "9                   0                    0                     0  ...   \n",
       "10                  0                    0                     0  ...   \n",
       "11                  0                    0                     1  ...   \n",
       "12                  0                    0                     0  ...   \n",
       "13                  0                    0                     0  ...   \n",
       "14                  0                    0                     0  ...   \n",
       "15                  0                    0                     0  ...   \n",
       "16                  0                    0                     0  ...   \n",
       "17                  0                    0                     0  ...   \n",
       "18                  0                    0                     0  ...   \n",
       "19                  0                    0                     0  ...   \n",
       "\n",
       "    outlet_city_Kelaniya  outlet_city_Kotte  outlet_city_Moratuwa  \\\n",
       "0                      1                  0                     0   \n",
       "1                      0                  0                     1   \n",
       "2                      0                  0                     0   \n",
       "3                      0                  0                     0   \n",
       "4                      1                  0                     0   \n",
       "5                      0                  0                     0   \n",
       "6                      0                  0                     0   \n",
       "7                      1                  0                     0   \n",
       "8                      0                  0                     0   \n",
       "9                      0                  0                     0   \n",
       "10                     0                  0                     0   \n",
       "11                     0                  0                     0   \n",
       "12                     0                  0                     1   \n",
       "13                     0                  0                     0   \n",
       "14                     0                  0                     1   \n",
       "15                     0                  0                     1   \n",
       "16                     0                  0                     0   \n",
       "17                     0                  0                     0   \n",
       "18                     0                  0                     0   \n",
       "19                     1                  0                     0   \n",
       "\n",
       "    outlet_city_Negombo  outlet_city_Nuwara Eliya  outlet_city_Panadura  \\\n",
       "0                     0                         0                     0   \n",
       "1                     0                         0                     0   \n",
       "2                     0                         0                     0   \n",
       "3                     0                         0                     0   \n",
       "4                     0                         0                     0   \n",
       "5                     0                         0                     0   \n",
       "6                     0                         0                     0   \n",
       "7                     0                         0                     0   \n",
       "8                     0                         0                     0   \n",
       "9                     0                         0                     1   \n",
       "10                    0                         0                     0   \n",
       "11                    0                         0                     0   \n",
       "12                    0                         0                     0   \n",
       "13                    0                         0                     0   \n",
       "14                    0                         0                     0   \n",
       "15                    0                         0                     0   \n",
       "16                    0                         0                     0   \n",
       "17                    0                         0                     0   \n",
       "18                    0                         0                     0   \n",
       "19                    0                         0                     0   \n",
       "\n",
       "    outlet_city_Peliyagoda  outlet_city_Trincomalee  outlet_city_Wattala  \\\n",
       "0                        0                        0                    0   \n",
       "1                        0                        0                    0   \n",
       "2                        0                        0                    1   \n",
       "3                        0                        0                    1   \n",
       "4                        0                        0                    0   \n",
       "5                        0                        0                    0   \n",
       "6                        0                        0                    0   \n",
       "7                        0                        0                    0   \n",
       "8                        0                        0                    0   \n",
       "9                        0                        0                    0   \n",
       "10                       0                        0                    1   \n",
       "11                       0                        0                    0   \n",
       "12                       0                        0                    0   \n",
       "13                       0                        0                    0   \n",
       "14                       0                        0                    0   \n",
       "15                       0                        0                    0   \n",
       "16                       1                        0                    0   \n",
       "17                       0                        0                    0   \n",
       "18                       0                        0                    0   \n",
       "19                       0                        0                    0   \n",
       "\n",
       "    cluster_catgeory  \n",
       "0                  4  \n",
       "1                  1  \n",
       "2                  4  \n",
       "3                  4  \n",
       "4                  4  \n",
       "5                  4  \n",
       "6                  4  \n",
       "7                  4  \n",
       "8                  4  \n",
       "9                  4  \n",
       "10                 4  \n",
       "11                 4  \n",
       "12                 4  \n",
       "13                 4  \n",
       "14                 4  \n",
       "15                 4  \n",
       "16                 4  \n",
       "17                99  \n",
       "18                 4  \n",
       "19                 4  \n",
       "\n",
       "[20 rows x 25 columns]"
      ]
     },
     "execution_count": 96,
     "metadata": {},
     "output_type": "execute_result"
    }
   ],
   "source": [
    "# One Hot Encoding\n",
    "TrainDataSet = pd.get_dummies(TrainDataSet, columns=['outlet_city'])\n",
    "\n",
    "# # Copy the target column\n",
    "Target = TrainDataSet['cluster_catgeory']\n",
    "\n",
    "# Drop the original target column from TrainDataSet\n",
    "TrainDataSet.drop(['cluster_catgeory'], axis=1, inplace=True)\n",
    "\n",
    "# Concatenate the target column to the end of TrainDataSet\n",
    "TrainDataSet['cluster_catgeory'] = Target\n",
    "\n",
    "# Display information about the dataset\n",
    "TrainDataSet.head(20)"
   ]
  },
  {
   "cell_type": "code",
   "execution_count": 97,
   "metadata": {},
   "outputs": [
    {
     "name": "stdout",
     "output_type": "stream",
     "text": [
      "<class 'pandas.core.frame.DataFrame'>\n",
      "Int64Index: 774150 entries, 0 to 774154\n",
      "Data columns (total 25 columns):\n",
      " #   Column                              Non-Null Count   Dtype  \n",
      "---  ------                              --------------   -----  \n",
      " 0   Customer_ID                         774150 non-null  float64\n",
      " 1   luxury_sales                        774150 non-null  float64\n",
      " 2   fresh_sales                         774150 non-null  float64\n",
      " 3   dry_sales                           774150 non-null  float64\n",
      " 4   outlet_city_Batticaloa              774150 non-null  uint8  \n",
      " 5   outlet_city_Colombo                 774150 non-null  uint8  \n",
      " 6   outlet_city_Dehiwala-Mount Lavinia  774150 non-null  uint8  \n",
      " 7   outlet_city_Galle                   774150 non-null  uint8  \n",
      " 8   outlet_city_Gampaha                 774150 non-null  uint8  \n",
      " 9   outlet_city_Homagama                774150 non-null  uint8  \n",
      " 10  outlet_city_Jaffna                  774150 non-null  uint8  \n",
      " 11  outlet_city_Kaduwela                774150 non-null  uint8  \n",
      " 12  outlet_city_Kalmunai                774150 non-null  uint8  \n",
      " 13  outlet_city_Kandy                   774150 non-null  uint8  \n",
      " 14  outlet_city_Katunayake              774150 non-null  uint8  \n",
      " 15  outlet_city_Kelaniya                774150 non-null  uint8  \n",
      " 16  outlet_city_Kotte                   774150 non-null  uint8  \n",
      " 17  outlet_city_Moratuwa                774150 non-null  uint8  \n",
      " 18  outlet_city_Negombo                 774150 non-null  uint8  \n",
      " 19  outlet_city_Nuwara Eliya            774150 non-null  uint8  \n",
      " 20  outlet_city_Panadura                774150 non-null  uint8  \n",
      " 21  outlet_city_Peliyagoda              774150 non-null  uint8  \n",
      " 22  outlet_city_Trincomalee             774150 non-null  uint8  \n",
      " 23  outlet_city_Wattala                 774150 non-null  uint8  \n",
      " 24  cluster_catgeory                    774150 non-null  object \n",
      "dtypes: float64(4), object(1), uint8(20)\n",
      "memory usage: 50.2+ MB\n"
     ]
    }
   ],
   "source": [
    "TrainDataSet.info()"
   ]
  },
  {
   "cell_type": "markdown",
   "metadata": {},
   "source": [
    "## **Target Variable Analysis**"
   ]
  },
  {
   "cell_type": "code",
   "execution_count": 98,
   "metadata": {},
   "outputs": [
    {
     "name": "stdout",
     "output_type": "stream",
     "text": [
      "Value: 4, Count: 172439\n",
      "Value: 1, Count: 188980\n",
      "Value: 99, Count: 1\n",
      "Value: 2, Count: 155064\n",
      "Value: 5, Count: 39540\n",
      "Value: 3, Count: 48907\n",
      "Value: 6, Count: 169214\n",
      "Value: 95, Count: 1\n",
      "Value: 98, Count: 1\n",
      "Value: 100, Count: 1\n",
      "Value: 89, Count: 1\n"
     ]
    }
   ],
   "source": [
    "# Convert strings to numeric (excluding unusual entries)\n",
    "y_train_numeric = pd.to_numeric(TrainDataSet['cluster_catgeory'], errors='coerce')\n",
    "\n",
    "# Remove NaNs resulting from conversion\n",
    "y_train_numeric = y_train_numeric[~np.isnan(y_train_numeric)]\n",
    "\n",
    "# Ensure consistent data type (optional)\n",
    "y_train_numeric = y_train_numeric.astype(int)\n",
    "\n",
    "# Replace the 'cluster_catgeory' column in TrainDataSet with the cleaned numeric values\n",
    "TrainDataSet['cluster_catgeory'] = y_train_numeric\n",
    "\n",
    "# Get unique values\n",
    "unique_classes = y_train_numeric.unique()\n",
    "\n",
    "# Print error values and their counts\n",
    "for value in unique_classes:\n",
    "    count = (y_train_numeric == value).sum()\n",
    "    print(f\"Value: {value}, Count: {count}\")\n"
   ]
  },
  {
   "cell_type": "code",
   "execution_count": 99,
   "metadata": {},
   "outputs": [
    {
     "name": "stdout",
     "output_type": "stream",
     "text": [
      "Value: 4.0, Count: 172439\n",
      "Value: 1.0, Count: 188980\n",
      "Value: 2.0, Count: 155064\n",
      "Value: 5.0, Count: 39540\n",
      "Value: 3.0, Count: 48907\n",
      "Value: 6.0, Count: 169214\n"
     ]
    }
   ],
   "source": [
    "# Define the list of outlier values\n",
    "outliers = [1, 2, 3, 4, 5 , 6]\n",
    "\n",
    "# Filter out rows with outlier values from 'cluster_catgeory'\n",
    "TrainDataSet = TrainDataSet[TrainDataSet['cluster_catgeory'].isin(outliers)]\n",
    "\n",
    "# Drop rows with NaN values in the 'cluster_catgeory' column\n",
    "TrainDataSet.dropna(subset=['cluster_catgeory'], inplace=True)\n",
    "\n",
    "# Get unique values\n",
    "unique_classes = TrainDataSet['cluster_catgeory'].unique()\n",
    "\n",
    "# Print unique values and their counts\n",
    "for value in unique_classes:\n",
    "    count = (TrainDataSet['cluster_catgeory'] == value).sum()\n",
    "    print(f\"Value: {value}, Count: {count}\")\n"
   ]
  },
  {
   "cell_type": "markdown",
   "metadata": {},
   "source": [
    "#### we had to classify the sales of the outlets into six categories, so we dropped all the rows with target outliers and extracted the main 6 categories from the target variable."
   ]
  },
  {
   "cell_type": "markdown",
   "metadata": {},
   "source": [
    "### **Saving the preprocessed data**"
   ]
  },
  {
   "cell_type": "code",
   "execution_count": 100,
   "metadata": {},
   "outputs": [],
   "source": [
    "# Save the cleaned dataset\n",
    "TrainDataSet.to_csv('./datasets/train_kaggle_cleaned.csv', index=False)\n",
    "\n",
    "# Load the cleaned dataset\n",
    "TrainDataSet = pd.read_csv('./datasets/train_kaggle_cleaned.csv')"
   ]
  },
  {
   "cell_type": "markdown",
   "metadata": {},
   "source": [
    "## **Training the model**"
   ]
  },
  {
   "cell_type": "code",
   "execution_count": 101,
   "metadata": {},
   "outputs": [
    {
     "name": "stdout",
     "output_type": "stream",
     "text": [
      "Shape of X_train: (758661, 23)\n",
      "Shape of y_train: (758661,)\n",
      "Shape of X_test: (15483, 23)\n",
      "Shape of y_test: (15483,)\n"
     ]
    }
   ],
   "source": [
    "X = TrainDataSet.drop(['cluster_catgeory' , 'Customer_ID'], axis=1)\n",
    "y = TrainDataSet['cluster_catgeory'].astype(int)\n",
    "\n",
    "X_train, X_test, y_train, y_test = train_test_split(X , y , test_size=0.02 , random_state=42)\n",
    "\n",
    "print('Shape of X_train:', X_train.shape)\n",
    "print('Shape of y_train:', y_train.shape)\n",
    "print('Shape of X_test:', X_test.shape)\n",
    "print('Shape of y_test:', y_test.shape)"
   ]
  },
  {
   "cell_type": "markdown",
   "metadata": {},
   "source": [
    "## **Logistic Regression**"
   ]
  },
  {
   "cell_type": "code",
   "execution_count": 102,
   "metadata": {},
   "outputs": [
    {
     "name": "stderr",
     "output_type": "stream",
     "text": [
      "c:\\Users\\Acer\\anaconda3\\lib\\site-packages\\sklearn\\linear_model\\_logistic.py:458: ConvergenceWarning: lbfgs failed to converge (status=1):\n",
      "STOP: TOTAL NO. of ITERATIONS REACHED LIMIT.\n",
      "\n",
      "Increase the number of iterations (max_iter) or scale the data as shown in:\n",
      "    https://scikit-learn.org/stable/modules/preprocessing.html\n",
      "Please also refer to the documentation for alternative solver options:\n",
      "    https://scikit-learn.org/stable/modules/linear_model.html#logistic-regression\n",
      "  n_iter_i = _check_optimize_result(\n"
     ]
    },
    {
     "data": {
      "text/html": [
       "<style>#sk-container-id-2 {color: black;background-color: white;}#sk-container-id-2 pre{padding: 0;}#sk-container-id-2 div.sk-toggleable {background-color: white;}#sk-container-id-2 label.sk-toggleable__label {cursor: pointer;display: block;width: 100%;margin-bottom: 0;padding: 0.3em;box-sizing: border-box;text-align: center;}#sk-container-id-2 label.sk-toggleable__label-arrow:before {content: \"▸\";float: left;margin-right: 0.25em;color: #696969;}#sk-container-id-2 label.sk-toggleable__label-arrow:hover:before {color: black;}#sk-container-id-2 div.sk-estimator:hover label.sk-toggleable__label-arrow:before {color: black;}#sk-container-id-2 div.sk-toggleable__content {max-height: 0;max-width: 0;overflow: hidden;text-align: left;background-color: #f0f8ff;}#sk-container-id-2 div.sk-toggleable__content pre {margin: 0.2em;color: black;border-radius: 0.25em;background-color: #f0f8ff;}#sk-container-id-2 input.sk-toggleable__control:checked~div.sk-toggleable__content {max-height: 200px;max-width: 100%;overflow: auto;}#sk-container-id-2 input.sk-toggleable__control:checked~label.sk-toggleable__label-arrow:before {content: \"▾\";}#sk-container-id-2 div.sk-estimator input.sk-toggleable__control:checked~label.sk-toggleable__label {background-color: #d4ebff;}#sk-container-id-2 div.sk-label input.sk-toggleable__control:checked~label.sk-toggleable__label {background-color: #d4ebff;}#sk-container-id-2 input.sk-hidden--visually {border: 0;clip: rect(1px 1px 1px 1px);clip: rect(1px, 1px, 1px, 1px);height: 1px;margin: -1px;overflow: hidden;padding: 0;position: absolute;width: 1px;}#sk-container-id-2 div.sk-estimator {font-family: monospace;background-color: #f0f8ff;border: 1px dotted black;border-radius: 0.25em;box-sizing: border-box;margin-bottom: 0.5em;}#sk-container-id-2 div.sk-estimator:hover {background-color: #d4ebff;}#sk-container-id-2 div.sk-parallel-item::after {content: \"\";width: 100%;border-bottom: 1px solid gray;flex-grow: 1;}#sk-container-id-2 div.sk-label:hover label.sk-toggleable__label {background-color: #d4ebff;}#sk-container-id-2 div.sk-serial::before {content: \"\";position: absolute;border-left: 1px solid gray;box-sizing: border-box;top: 0;bottom: 0;left: 50%;z-index: 0;}#sk-container-id-2 div.sk-serial {display: flex;flex-direction: column;align-items: center;background-color: white;padding-right: 0.2em;padding-left: 0.2em;position: relative;}#sk-container-id-2 div.sk-item {position: relative;z-index: 1;}#sk-container-id-2 div.sk-parallel {display: flex;align-items: stretch;justify-content: center;background-color: white;position: relative;}#sk-container-id-2 div.sk-item::before, #sk-container-id-2 div.sk-parallel-item::before {content: \"\";position: absolute;border-left: 1px solid gray;box-sizing: border-box;top: 0;bottom: 0;left: 50%;z-index: -1;}#sk-container-id-2 div.sk-parallel-item {display: flex;flex-direction: column;z-index: 1;position: relative;background-color: white;}#sk-container-id-2 div.sk-parallel-item:first-child::after {align-self: flex-end;width: 50%;}#sk-container-id-2 div.sk-parallel-item:last-child::after {align-self: flex-start;width: 50%;}#sk-container-id-2 div.sk-parallel-item:only-child::after {width: 0;}#sk-container-id-2 div.sk-dashed-wrapped {border: 1px dashed gray;margin: 0 0.4em 0.5em 0.4em;box-sizing: border-box;padding-bottom: 0.4em;background-color: white;}#sk-container-id-2 div.sk-label label {font-family: monospace;font-weight: bold;display: inline-block;line-height: 1.2em;}#sk-container-id-2 div.sk-label-container {text-align: center;}#sk-container-id-2 div.sk-container {/* jupyter's `normalize.less` sets `[hidden] { display: none; }` but bootstrap.min.css set `[hidden] { display: none !important; }` so we also need the `!important` here to be able to override the default hidden behavior on the sphinx rendered scikit-learn.org. See: https://github.com/scikit-learn/scikit-learn/issues/21755 */display: inline-block !important;position: relative;}#sk-container-id-2 div.sk-text-repr-fallback {display: none;}</style><div id=\"sk-container-id-2\" class=\"sk-top-container\"><div class=\"sk-text-repr-fallback\"><pre>LogisticRegression(max_iter=250)</pre><b>In a Jupyter environment, please rerun this cell to show the HTML representation or trust the notebook. <br />On GitHub, the HTML representation is unable to render, please try loading this page with nbviewer.org.</b></div><div class=\"sk-container\" hidden><div class=\"sk-item\"><div class=\"sk-estimator sk-toggleable\"><input class=\"sk-toggleable__control sk-hidden--visually\" id=\"sk-estimator-id-2\" type=\"checkbox\" checked><label for=\"sk-estimator-id-2\" class=\"sk-toggleable__label sk-toggleable__label-arrow\">LogisticRegression</label><div class=\"sk-toggleable__content\"><pre>LogisticRegression(max_iter=250)</pre></div></div></div></div></div>"
      ],
      "text/plain": [
       "LogisticRegression(max_iter=250)"
      ]
     },
     "execution_count": 102,
     "metadata": {},
     "output_type": "execute_result"
    }
   ],
   "source": [
    "from sklearn.linear_model import LogisticRegression\n",
    "\n",
    "LR = LogisticRegression(solver='lbfgs', max_iter=250)\n",
    "LR.fit(X_train , y_train)"
   ]
  },
  {
   "cell_type": "markdown",
   "metadata": {},
   "source": [
    "### **Pefromance Metrics**"
   ]
  },
  {
   "cell_type": "code",
   "execution_count": 103,
   "metadata": {},
   "outputs": [
    {
     "name": "stdout",
     "output_type": "stream",
     "text": [
      "Accuracy: 0.9436801653426339\n"
     ]
    },
    {
     "name": "stderr",
     "output_type": "stream",
     "text": [
      "c:\\Users\\Acer\\anaconda3\\lib\\site-packages\\sklearn\\linear_model\\_logistic.py:458: ConvergenceWarning: lbfgs failed to converge (status=1):\n",
      "STOP: TOTAL NO. of ITERATIONS REACHED LIMIT.\n",
      "\n",
      "Increase the number of iterations (max_iter) or scale the data as shown in:\n",
      "    https://scikit-learn.org/stable/modules/preprocessing.html\n",
      "Please also refer to the documentation for alternative solver options:\n",
      "    https://scikit-learn.org/stable/modules/linear_model.html#logistic-regression\n",
      "  n_iter_i = _check_optimize_result(\n",
      "c:\\Users\\Acer\\anaconda3\\lib\\site-packages\\sklearn\\linear_model\\_logistic.py:458: ConvergenceWarning: lbfgs failed to converge (status=1):\n",
      "STOP: TOTAL NO. of ITERATIONS REACHED LIMIT.\n",
      "\n",
      "Increase the number of iterations (max_iter) or scale the data as shown in:\n",
      "    https://scikit-learn.org/stable/modules/preprocessing.html\n",
      "Please also refer to the documentation for alternative solver options:\n",
      "    https://scikit-learn.org/stable/modules/linear_model.html#logistic-regression\n",
      "  n_iter_i = _check_optimize_result(\n",
      "c:\\Users\\Acer\\anaconda3\\lib\\site-packages\\sklearn\\linear_model\\_logistic.py:458: ConvergenceWarning: lbfgs failed to converge (status=1):\n",
      "STOP: TOTAL NO. of ITERATIONS REACHED LIMIT.\n",
      "\n",
      "Increase the number of iterations (max_iter) or scale the data as shown in:\n",
      "    https://scikit-learn.org/stable/modules/preprocessing.html\n",
      "Please also refer to the documentation for alternative solver options:\n",
      "    https://scikit-learn.org/stable/modules/linear_model.html#logistic-regression\n",
      "  n_iter_i = _check_optimize_result(\n",
      "c:\\Users\\Acer\\anaconda3\\lib\\site-packages\\sklearn\\linear_model\\_logistic.py:458: ConvergenceWarning: lbfgs failed to converge (status=1):\n",
      "STOP: TOTAL NO. of ITERATIONS REACHED LIMIT.\n",
      "\n",
      "Increase the number of iterations (max_iter) or scale the data as shown in:\n",
      "    https://scikit-learn.org/stable/modules/preprocessing.html\n",
      "Please also refer to the documentation for alternative solver options:\n",
      "    https://scikit-learn.org/stable/modules/linear_model.html#logistic-regression\n",
      "  n_iter_i = _check_optimize_result(\n"
     ]
    },
    {
     "name": "stdout",
     "output_type": "stream",
     "text": [
      "Cross-validated Accuracy Scores: [0.9442178  0.94442174 0.94400654 0.9443822  0.94412517]\n",
      "Mean Accuracy: 0.9442306906680151\n"
     ]
    },
    {
     "name": "stderr",
     "output_type": "stream",
     "text": [
      "c:\\Users\\Acer\\anaconda3\\lib\\site-packages\\sklearn\\linear_model\\_logistic.py:458: ConvergenceWarning: lbfgs failed to converge (status=1):\n",
      "STOP: TOTAL NO. of ITERATIONS REACHED LIMIT.\n",
      "\n",
      "Increase the number of iterations (max_iter) or scale the data as shown in:\n",
      "    https://scikit-learn.org/stable/modules/preprocessing.html\n",
      "Please also refer to the documentation for alternative solver options:\n",
      "    https://scikit-learn.org/stable/modules/linear_model.html#logistic-regression\n",
      "  n_iter_i = _check_optimize_result(\n"
     ]
    }
   ],
   "source": [
    "LR_predicted = LR.predict(X_test)\n",
    "\n",
    "# Calculate accuracy score\n",
    "accuracy = accuracy_score(y_test, LR_predicted)\n",
    "print(\"Accuracy:\", accuracy)\n",
    "\n",
    "# Calculate cross-validated accuracy scores\n",
    "LR_scores = cross_val_score(LR, X_train, y_train, cv=5, scoring=\"accuracy\")\n",
    "print(\"Cross-validated Accuracy Scores:\", LR_scores)\n",
    "print(\"Mean Accuracy:\", LR_scores.mean())"
   ]
  },
  {
   "cell_type": "code",
   "execution_count": 104,
   "metadata": {},
   "outputs": [
    {
     "data": {
      "text/plain": [
       "<Axes: >"
      ]
     },
     "execution_count": 104,
     "metadata": {},
     "output_type": "execute_result"
    },
    {
     "data": {
      "image/png": "[encoded data removed]",
      "text/plain": [
       "<Figure size 640x480 with 2 Axes>"
      ]
     },
     "metadata": {},
     "output_type": "display_data"
    }
   ],
   "source": [
    "sns.heatmap(confusion_matrix(y_test, LR_predicted) , annot=True , cmap='crest' , fmt='g')"
   ]
  },
  {
   "cell_type": "code",
   "execution_count": 105,
   "metadata": {},
   "outputs": [
    {
     "name": "stdout",
     "output_type": "stream",
     "text": [
      "              precision    recall  f1-score   support\n",
      "\n",
      "           1       0.99      0.99      0.99      3731\n",
      "           2       0.99      0.99      0.99      3033\n",
      "           3       0.56      1.00      0.72      1004\n",
      "           4       0.99      0.99      0.99      3476\n",
      "           5       0.00      0.00      0.00       797\n",
      "           6       1.00      0.99      1.00      3442\n",
      "\n",
      "    accuracy                           0.94     15483\n",
      "   macro avg       0.76      0.83      0.78     15483\n",
      "weighted avg       0.91      0.94      0.93     15483\n",
      "\n"
     ]
    },
    {
     "name": "stderr",
     "output_type": "stream",
     "text": [
      "c:\\Users\\Acer\\anaconda3\\lib\\site-packages\\sklearn\\metrics\\_classification.py:1344: UndefinedMetricWarning: Precision and F-score are ill-defined and being set to 0.0 in labels with no predicted samples. Use `zero_division` parameter to control this behavior.\n",
      "  _warn_prf(average, modifier, msg_start, len(result))\n",
      "c:\\Users\\Acer\\anaconda3\\lib\\site-packages\\sklearn\\metrics\\_classification.py:1344: UndefinedMetricWarning: Precision and F-score are ill-defined and being set to 0.0 in labels with no predicted samples. Use `zero_division` parameter to control this behavior.\n",
      "  _warn_prf(average, modifier, msg_start, len(result))\n",
      "c:\\Users\\Acer\\anaconda3\\lib\\site-packages\\sklearn\\metrics\\_classification.py:1344: UndefinedMetricWarning: Precision and F-score are ill-defined and being set to 0.0 in labels with no predicted samples. Use `zero_division` parameter to control this behavior.\n",
      "  _warn_prf(average, modifier, msg_start, len(result))\n"
     ]
    }
   ],
   "source": [
    "print(classification_report(y_test, LR_predicted))"
   ]
  },
  {
   "cell_type": "markdown",
   "metadata": {},
   "source": [
    "### **Saving the model**"
   ]
  },
  {
   "cell_type": "code",
   "execution_count": 106,
   "metadata": {},
   "outputs": [
    {
     "data": {
      "text/plain": [
       "['./models/logistic_regression_model.pkl']"
      ]
     },
     "execution_count": 106,
     "metadata": {},
     "output_type": "execute_result"
    }
   ],
   "source": [
    "# Dowload the model\n",
    "joblib.dump(LR, './models/logistic_regression_model.pkl')"
   ]
  },
  {
   "cell_type": "markdown",
   "metadata": {},
   "source": [
    "## **Random Forest Classifier**"
   ]
  },
  {
   "cell_type": "code",
   "execution_count": 107,
   "metadata": {},
   "outputs": [],
   "source": [
    "from sklearn.ensemble import RandomForestClassifier \n",
    "\n",
    "RF_Clf = RandomForestClassifier(n_estimators=100 , random_state=42)\n",
    "RF_Clf.fit(X_train , y_train)"
   ]
  },
  {
   "cell_type": "markdown",
   "metadata": {},
   "source": [
    "### **Pefromance Metrics**"
   ]
  },
  {
   "cell_type": "code",
   "execution_count": null,
   "metadata": {},
   "outputs": [
    {
     "name": "stdout",
     "output_type": "stream",
     "text": [
      "Accuracy: 0.9998708260672996\n",
      "Cross-validated Accuracy Scores: [0.99978251 0.99982205 0.99974956 0.9997232  0.99975615]\n",
      "Mean Accuracy: 0.9997666941943523\n"
     ]
    }
   ],
   "source": [
    "RF_Predicted = RF_Clf.predict(X_test)\n",
    "\n",
    "# Calculate accuracy score\n",
    "accuracy = accuracy_score(y_test, RF_Predicted)\n",
    "print(\"Accuracy:\", accuracy)\n",
    "\n",
    "# Calculate cross-validated accuracy scores\n",
    "RF_scores = cross_val_score(RF_Clf, X_train, y_train, cv=5, scoring=\"accuracy\")\n",
    "print(\"Cross-validated Accuracy Scores:\", RF_scores)\n",
    "print(\"Mean Accuracy:\", RF_scores.mean())"
   ]
  },
  {
   "cell_type": "code",
   "execution_count": null,
   "metadata": {},
   "outputs": [
    {
     "data": {
      "text/plain": [
       "<Axes: >"
      ]
     },
     "execution_count": 47,
     "metadata": {},
     "output_type": "execute_result"
    },
    {
     "data": {
      "image/png": "[encoded data removed]",
      "text/plain": [
       "<Figure size 640x480 with 2 Axes>"
      ]
     },
     "metadata": {},
     "output_type": "display_data"
    }
   ],
   "source": [
    "sns.heatmap(confusion_matrix(y_test, RF_Predicted) , annot=True , cmap='crest' , fmt='d')"
   ]
  },
  {
   "cell_type": "code",
   "execution_count": null,
   "metadata": {},
   "outputs": [
    {
     "name": "stdout",
     "output_type": "stream",
     "text": [
      "              precision    recall  f1-score   support\n",
      "\n",
      "           1       1.00      1.00      1.00      3731\n",
      "           2       1.00      1.00      1.00      3033\n",
      "           3       1.00      1.00      1.00      1004\n",
      "           4       1.00      1.00      1.00      3476\n",
      "           5       1.00      1.00      1.00       797\n",
      "           6       1.00      1.00      1.00      3442\n",
      "\n",
      "    accuracy                           1.00     15483\n",
      "   macro avg       1.00      1.00      1.00     15483\n",
      "weighted avg       1.00      1.00      1.00     15483\n",
      "\n"
     ]
    }
   ],
   "source": [
    "print(classification_report(y_test, RF_Predicted))"
   ]
  },
  {
   "cell_type": "markdown",
   "metadata": {},
   "source": [
    "### **Saving the model**"
   ]
  },
  {
   "cell_type": "code",
   "execution_count": null,
   "metadata": {},
   "outputs": [],
   "source": [
    "# Dowload the model\n",
    "joblib.dump(RF_Clf, './models/random_forest_model.pkl')"
   ]
  },
  {
   "cell_type": "markdown",
   "metadata": {},
   "source": [
    "## **Support Vector Machine**"
   ]
  },
  {
   "cell_type": "code",
   "execution_count": null,
   "metadata": {},
   "outputs": [],
   "source": [
    "from sklearn.linear_model import SGDClassifier\n",
    "\n",
    "sgd_clf = SGDClassifier(random_state=42)\n",
    "sgd_clf.fit(X_train, y_train)"
   ]
  },
  {
   "cell_type": "markdown",
   "metadata": {},
   "source": [
    "### **Pefromance Metrics**"
   ]
  },
  {
   "cell_type": "code",
   "execution_count": null,
   "metadata": {},
   "outputs": [],
   "source": [
    "SGD_Predicted = sgd_clf.predict(X_test)\n",
    "\n",
    "# Calculate accuracy score\n",
    "accuracy = accuracy_score(y_test, SGD_Predicted)\n",
    "print(\"Accuracy:\", accuracy)\n",
    "\n",
    "# Calculate cross-validated accuracy scores\n",
    "SGD_scores = cross_val_score(sgd_clf, X_train, y_train, cv=5, scoring=\"accuracy\")\n",
    "print(\"Cross-validated Accuracy Scores:\", SGD_scores)\n",
    "print(\"Mean Accuracy:\", SGD_scores.mean())"
   ]
  },
  {
   "cell_type": "code",
   "execution_count": null,
   "metadata": {},
   "outputs": [],
   "source": [
    "sns.heatmap(confusion_matrix(y_test, SGD_Predicted) , annot=True , cmap='crest' , fmt='d')"
   ]
  },
  {
   "cell_type": "code",
   "execution_count": null,
   "metadata": {},
   "outputs": [],
   "source": [
    "print(classification_report(y_test, SGD_Predicted))"
   ]
  },
  {
   "cell_type": "markdown",
   "metadata": {},
   "source": [
    "### **Saving the model**"
   ]
  },
  {
   "cell_type": "code",
   "execution_count": null,
   "metadata": {},
   "outputs": [],
   "source": [
    "## Dowload the model\n",
    "joblib.dump(sgd_clf, './models/sgd_model.pkl')"
   ]
  },
  {
   "cell_type": "markdown",
   "metadata": {},
   "source": [
    "## **KNN**"
   ]
  },
  {
   "cell_type": "code",
   "execution_count": null,
   "metadata": {},
   "outputs": [],
   "source": [
    "from sklearn.neighbors import KNeighborsClassifier\n",
    "\n",
    "knn_clf = KNeighborsClassifier()\n",
    "knn_clf.fit(X_train, y_train)"
   ]
  },
  {
   "cell_type": "markdown",
   "metadata": {},
   "source": [
    "### **Pefromance Metrics**"
   ]
  },
  {
   "cell_type": "code",
   "execution_count": null,
   "metadata": {},
   "outputs": [],
   "source": [
    "KNN_Predicted = knn_clf.predict(X_test)\n",
    "\n",
    "# Calculate accuracy score\n",
    "accuracy = accuracy_score(y_test, KNN_Predicted)\n",
    "print(\"Accuracy:\", accuracy)\n",
    "\n",
    "# Calculate cross-validated accuracy scores\n",
    "KNN_scores = cross_val_score(knn_clf, X_train, y_train, cv=5, scoring=\"accuracy\")\n",
    "print(\"Cross-validated Accuracy Scores:\", KNN_scores)\n",
    "print(\"Mean Accuracy:\", KNN_scores.mean())"
   ]
  },
  {
   "cell_type": "code",
   "execution_count": null,
   "metadata": {},
   "outputs": [],
   "source": [
    "sns.heatmap(confusion_matrix(y_test, KNN_Predicted) , annot=True , cmap='crest' , fmt='d')"
   ]
  },
  {
   "cell_type": "code",
   "execution_count": null,
   "metadata": {},
   "outputs": [],
   "source": [
    "print(classification_report(y_test, KNN_Predicted))"
   ]
  },
  {
   "cell_type": "markdown",
   "metadata": {},
   "source": [
    "### **Saving the model**"
   ]
  },
  {
   "cell_type": "code",
   "execution_count": null,
   "metadata": {},
   "outputs": [],
   "source": [
    "# Dowload the model\n",
    "joblib.dump(knn_clf, './models/knn_model.pkl')"
   ]
  },
  {
   "cell_type": "markdown",
   "metadata": {},
   "source": [
    "## **XGBoost**"
   ]
  },
  {
   "cell_type": "code",
   "execution_count": null,
   "metadata": {},
   "outputs": [],
   "source": [
    "# xgboost\n",
    "from xgboost import XGBClassifier\n",
    "\n",
    "xgb_clf = XGBClassifier(use_label_encoder=False, eval_metric='mlogloss')\n",
    "xgb_clf.fit(X_train, y_train)"
   ]
  },
  {
   "cell_type": "markdown",
   "metadata": {},
   "source": [
    "### **Pefromance Metrics**\n"
   ]
  },
  {
   "cell_type": "code",
   "execution_count": null,
   "metadata": {},
   "outputs": [],
   "source": [
    "XGB_Predicted = xgb_clf.predict(X_test)\n",
    "\n",
    "# Calculate accuracy score\n",
    "accuracy = accuracy_score(y_test, XGB_Predicted)\n",
    "print(\"Accuracy:\", accuracy)\n",
    "\n",
    "# Calculate cross-validated accuracy scores\n",
    "XGB_scores = cross_val_score(xgb_clf, X_train, y_train, cv=5, scoring=\"accuracy\")\n",
    "print(\"Cross-validated Accuracy Scores:\", XGB_scores)\n",
    "print(\"Mean Accuracy:\", XGB_scores.mean())"
   ]
  },
  {
   "cell_type": "code",
   "execution_count": null,
   "metadata": {},
   "outputs": [],
   "source": [
    "sns.heatmap(confusion_matrix(y_test, XGB_Predicted) , annot=True , cmap='crest' , fmt='d')"
   ]
  },
  {
   "cell_type": "code",
   "execution_count": null,
   "metadata": {},
   "outputs": [],
   "source": [
    "print(classification_report(y_test, XGB_Predicted))"
   ]
  },
  {
   "cell_type": "markdown",
   "metadata": {},
   "source": [
    "### **Saving the model**"
   ]
  },
  {
   "cell_type": "code",
   "execution_count": null,
   "metadata": {},
   "outputs": [],
   "source": [
    "# Dowload the model\n",
    "joblib.dump(xgb_clf, './models/xgb_model.pkl')"
   ]
  },
  {
   "cell_type": "markdown",
   "metadata": {},
   "source": [
    "## **VOting Classifier**"
   ]
  },
  {
   "cell_type": "code",
   "execution_count": null,
   "metadata": {},
   "outputs": [],
   "source": [
    "from sklearn.ensemble import VotingClassifier\n",
    "\n",
    "voting_clf = VotingClassifier(\n",
    "    estimators=[('lr', LR), ('rf', RF_Clf), ('sgd', sgd_clf), ('xgb', xgb_clf), ('knn', knn_clf)]\n",
    ")\n",
    "\n",
    "voting_clf.fit(X_train, y_train)"
   ]
  },
  {
   "cell_type": "code",
   "execution_count": null,
   "metadata": {},
   "outputs": [],
   "source": [
    "VOTING_predicted = voting_clf.predict(X_test)\n",
    "\n",
    "# Calculate accuracy score\n",
    "accuracy = accuracy_score(y_test, VOTING_predicted)\n",
    "print(\"Accuracy:\", accuracy)\n",
    "\n",
    "\n",
    "# Calculate cross-validated accuracy scores\n",
    "VOTING_scores = cross_val_score(voting_clf, X_train, y_train, cv=5, scoring=\"accuracy\")\n",
    "print(\"Cross-validated Accuracy Scores:\", VOTING_scores)\n",
    "print(\"Mean Accuracy:\", VOTING_scores.mean())"
   ]
  },
  {
   "cell_type": "code",
   "execution_count": null,
   "metadata": {},
   "outputs": [],
   "source": [
    "sns.heatmap(confusion_matrix(y_test, VOTING_predicted) , annot=True , cmap='crest' , fmt='d')"
   ]
  },
  {
   "cell_type": "code",
   "execution_count": null,
   "metadata": {},
   "outputs": [],
   "source": [
    "print(classification_report(y_test, VOTING_predicted))"
   ]
  },
  {
   "cell_type": "code",
   "execution_count": null,
   "metadata": {},
   "outputs": [],
   "source": [
    "models = ['LogisticRegression' , 'RandomForestClassifier' , 'SGDClassifier' , 'KNeighborsClassifier', 'XGBClassifier', 'VotingClassifier'] \n",
    "accuracy = [LR_scores.mean() , RF_scores.mean() , SGD_scores.mean() , KNN_scores.mean() , XGB_scores.mean(), VOTING_scores.mean()]\n",
    "\n",
    "for i in range(len(models)):\n",
    "    print('Average Accuracy of ' , models[i], 'is: ', accuracy[i])\n",
    "\n",
    "high_accuracy_model = models[accuracy.index(max(accuracy))] \n",
    "\n",
    "print('\\n'+'Best Model for this Dataset is: ',high_accuracy_model)"
   ]
  }
 ],
 "metadata": {
  "kernelspec": {
   "display_name": "base",
   "language": "python",
   "name": "python3"
  },
  "language_info": {
   "codemirror_mode": {
    "name": "ipython",
    "version": 3
   },
   "file_extension": ".py",
   "mimetype": "text/x-python",
   "name": "python",
   "nbconvert_exporter": "python",
   "pygments_lexer": "ipython3",
   "version": "3.10.9"
  }
 },
 "nbformat": 4,
 "nbformat_minor": 2
}
