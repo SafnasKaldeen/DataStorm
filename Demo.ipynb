{
 "cells": [
  {
   "cell_type": "code",
   "execution_count": 65,
   "metadata": {},
   "outputs": [],
   "source": [
    "# Basic Imports\n",
    "import pandas as pd\n",
    "import numpy as np\n",
    "import matplotlib.pyplot as plt\n",
    "import seaborn as sns\n",
    "# from word2number import w2n"
   ]
  },
  {
   "cell_type": "code",
   "execution_count": 66,
   "metadata": {},
   "outputs": [
    {
     "name": "stderr",
     "output_type": "stream",
     "text": [
      "C:\\Users\\Acer\\AppData\\Local\\Temp\\ipykernel_8348\\1880558860.py:1: DtypeWarning: Columns (3,4,5) have mixed types. Specify dtype option on import or set low_memory=False.\n",
      "  TrainDataSet = pd.read_csv('./datasets/train_kaggle.csv')\n"
     ]
    },
    {
     "name": "stdout",
     "output_type": "stream",
     "text": [
      "<class 'pandas.core.frame.DataFrame'>\n",
      "RangeIndex: 774155 entries, 0 to 774154\n",
      "Data columns (total 6 columns):\n",
      " #   Column            Non-Null Count   Dtype  \n",
      "---  ------            --------------   -----  \n",
      " 0   Customer_ID       774153 non-null  float64\n",
      " 1   outlet_city       774153 non-null  object \n",
      " 2   luxury_sales      774120 non-null  object \n",
      " 3   fresh_sales       774114 non-null  object \n",
      " 4   dry_sales         774125 non-null  object \n",
      " 5   cluster_catgeory  774154 non-null  object \n",
      "dtypes: float64(1), object(5)\n",
      "memory usage: 35.4+ MB\n"
     ]
    }
   ],
   "source": [
    "TrainDataSet = pd.read_csv('./datasets/train_kaggle.csv')\n",
    "\n",
    "TrainDataSet.info()"
   ]
  },
  {
   "cell_type": "code",
   "execution_count": 67,
   "metadata": {},
   "outputs": [
    {
     "name": "stdout",
     "output_type": "stream",
     "text": [
      "Before Cleaning the Sales Column Customer_ID          2\n",
      "outlet_city          2\n",
      "luxury_sales        35\n",
      "fresh_sales         41\n",
      "dry_sales           30\n",
      "cluster_catgeory     1\n",
      "dtype: int64\n",
      "\n",
      "After Cleaning the Sales Column Customer_ID         2\n",
      "outlet_city         2\n",
      "luxury_sales        0\n",
      "fresh_sales         0\n",
      "dry_sales           0\n",
      "cluster_catgeory    1\n",
      "dtype: int64\n"
     ]
    }
   ],
   "source": [
    "print(f'Before Cleaning the Sales Column {TrainDataSet.isnull().sum()}')\n",
    "\n",
    "# Check for missing values\n",
    "TrainDataSet[['luxury_sales', 'fresh_sales', 'dry_sales']] = TrainDataSet[['luxury_sales', 'fresh_sales', 'dry_sales']].fillna(0)\n",
    "\n",
    "print(f'\\nAfter Cleaning the Sales Column {TrainDataSet.isnull().sum()}')"
   ]
  },
  {
   "cell_type": "code",
   "execution_count": 68,
   "metadata": {},
   "outputs": [
    {
     "data": {
      "text/plain": [
       "Customer_ID         0\n",
       "outlet_city         0\n",
       "luxury_sales        0\n",
       "fresh_sales         0\n",
       "dry_sales           0\n",
       "cluster_catgeory    0\n",
       "dtype: int64"
      ]
     },
     "execution_count": 68,
     "metadata": {},
     "output_type": "execute_result"
    }
   ],
   "source": [
    "TrainDataSet.dropna(inplace=True)\n",
    "\n",
    "TrainDataSet.isnull().sum()"
   ]
  },
  {
   "cell_type": "code",
   "execution_count": 69,
   "metadata": {},
   "outputs": [
    {
     "name": "stdout",
     "output_type": "stream",
     "text": [
      "<class 'pandas.core.frame.DataFrame'>\n",
      "Int64Index: 774150 entries, 0 to 774154\n",
      "Data columns (total 6 columns):\n",
      " #   Column            Non-Null Count   Dtype  \n",
      "---  ------            --------------   -----  \n",
      " 0   Customer_ID       774150 non-null  float64\n",
      " 1   outlet_city       774150 non-null  object \n",
      " 2   luxury_sales      774140 non-null  float64\n",
      " 3   fresh_sales       774141 non-null  float64\n",
      " 4   dry_sales         774142 non-null  float64\n",
      " 5   cluster_catgeory  774150 non-null  object \n",
      "dtypes: float64(4), object(2)\n",
      "memory usage: 41.3+ MB\n"
     ]
    }
   ],
   "source": [
    "# Data type correction\n",
    "# Assuming TrainDataSet is your DataFrame and 'sales' is the column name\n",
    "# Convert non-numeric values to NaN for multiple columns\n",
    "TrainDataSet[['luxury_sales', 'fresh_sales', 'dry_sales']] = TrainDataSet[['luxury_sales', 'fresh_sales', 'dry_sales']].apply(pd.to_numeric, errors='coerce')\n",
    "\n",
    "# Convert the columns to float\n",
    "TrainDataSet[['luxury_sales', 'fresh_sales', 'dry_sales']] = TrainDataSet[['luxury_sales', 'fresh_sales', 'dry_sales']].astype(float)\n",
    "\n",
    "TrainDataSet.info()"
   ]
  },
  {
   "cell_type": "code",
   "execution_count": 70,
   "metadata": {},
   "outputs": [
    {
     "name": "stdout",
     "output_type": "stream",
     "text": [
      "<class 'pandas.core.frame.DataFrame'>\n",
      "Int64Index: 774150 entries, 0 to 774154\n",
      "Data columns (total 6 columns):\n",
      " #   Column            Non-Null Count   Dtype  \n",
      "---  ------            --------------   -----  \n",
      " 0   Customer_ID       774150 non-null  float64\n",
      " 1   outlet_city       774150 non-null  object \n",
      " 2   luxury_sales      774140 non-null  float64\n",
      " 3   fresh_sales       774141 non-null  float64\n",
      " 4   dry_sales         774142 non-null  float64\n",
      " 5   cluster_catgeory  774150 non-null  object \n",
      "dtypes: float64(4), object(2)\n",
      "memory usage: 41.3+ MB\n"
     ]
    }
   ],
   "source": [
    "TrainDataSet.replace({'luxury_sales': {'Nan': 0} , 'fresh_sales': {'Nan': 0}, 'dry_sales': {'Nan': 0}}, inplace=True)\n",
    "\n",
    "# Convert the columns to float\n",
    "TrainDataSet[['luxury_sales', 'fresh_sales', 'dry_sales']] = TrainDataSet[['luxury_sales', 'fresh_sales', 'dry_sales']].astype(float)\n",
    "\n",
    "TrainDataSet.info()"
   ]
  },
  {
   "cell_type": "code",
   "execution_count": 72,
   "metadata": {},
   "outputs": [
    {
     "data": {
      "image/png": "[encoded data removed]",
      "text/plain": [
       "<Figure size 640x480 with 1 Axes>"
      ]
     },
     "metadata": {},
     "output_type": "display_data"
    },
    {
     "data": {
      "image/png": "[encoded data removed]",
      "text/plain": [
       "<Figure size 640x480 with 1 Axes>"
      ]
     },
     "metadata": {},
     "output_type": "display_data"
    },
    {
     "data": {
      "image/png": "[encoded data removed]",
      "text/plain": [
       "<Figure size 640x480 with 1 Axes>"
      ]
     },
     "metadata": {},
     "output_type": "display_data"
    }
   ],
   "source": [
    "# Outliers\n",
    "# Check for outliers\n",
    "sns.boxplot(x=TrainDataSet['luxury_sales'])\n",
    "plt.show()\n",
    "\n",
    "sns.boxplot(x=TrainDataSet['fresh_sales'])\n",
    "plt.show()\n",
    "\n",
    "sns.boxplot(x=TrainDataSet['dry_sales'])\n",
    "plt.show()"
   ]
  },
  {
   "cell_type": "code",
   "execution_count": 3,
   "metadata": {},
   "outputs": [
    {
     "name": "stdout",
     "output_type": "stream",
     "text": [
      "Original Data:\n",
      "   luxury_sales  fresh_sales  dry_sales\n",
      "0          1000          500        200\n",
      "1          1200          600        300\n",
      "2           800          700        400\n",
      "3          1500          800        500\n",
      "4          2000          900        600\n",
      "5         10000         3000       4000\n",
      "Scaled Data:\n",
      "   luxury_sales  fresh_sales  dry_sales\n",
      "0     -0.424242         -1.0       -1.0\n",
      "1     -0.181818         -0.6       -0.6\n",
      "2     -0.666667         -0.2       -0.2\n",
      "3      0.181818          0.2        0.2\n",
      "4      0.787879          0.6        0.6\n",
      "5     10.484848          9.0       14.2\n"
     ]
    }
   ],
   "source": [
    "import pandas as pd\n",
    "from sklearn.preprocessing import RobustScaler\n",
    "\n",
    "# Sample data\n",
    "data = {\n",
    "    'luxury_sales': [1000, 1200, 800, 1500, 2000, 10000],  # Adding an outlier (10000) to luxury_sales\n",
    "    'fresh_sales': [500, 600, 700, 800, 900, 3000],        # Adding an outlier (3000) to fresh_sales\n",
    "    'dry_sales': [200, 300, 400, 500, 600, 4000]           # Adding an outlier (4000) to dry_sales\n",
    "}\n",
    "\n",
    "# Create DataFrame\n",
    "TrainDataSet = pd.DataFrame(data)\n",
    "print(\"Original Data:\")\n",
    "print(TrainDataSet)\n",
    "\n",
    "# Initialize the RobustScaler object\n",
    "scaler = RobustScaler()\n",
    "\n",
    "# Fit the scaler to your data and transform the features\n",
    "scaled_features = scaler.fit_transform(TrainDataSet[['luxury_sales', 'fresh_sales', 'dry_sales']])\n",
    "\n",
    "# Replace the original features with the scaled features\n",
    "TrainDataSet[['luxury_sales', 'fresh_sales', 'dry_sales']] = scaled_features\n",
    "\n",
    "print(\"Scaled Data:\")\n",
    "print(TrainDataSet)"
   ]
  }
 ],
 "metadata": {
  "kernelspec": {
   "display_name": "base",
   "language": "python",
   "name": "python3"
  },
  "language_info": {
   "codemirror_mode": {
    "name": "ipython",
    "version": 3
   },
   "file_extension": ".py",
   "mimetype": "text/x-python",
   "name": "python",
   "nbconvert_exporter": "python",
   "pygments_lexer": "ipython3",
   "version": "3.10.9"
  }
 },
 "nbformat": 4,
 "nbformat_minor": 2
}
